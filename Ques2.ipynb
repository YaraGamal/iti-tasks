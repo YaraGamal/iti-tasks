{
 "cells": [
  {
   "cell_type": "code",
   "execution_count": 18,
   "id": "efb763b4",
   "metadata": {},
   "outputs": [],
   "source": [
    "import pandas as pd\n"
   ]
  },
  {
   "cell_type": "code",
   "execution_count": 19,
   "id": "c351ca21",
   "metadata": {},
   "outputs": [
    {
     "name": "stdout",
     "output_type": "stream",
     "text": [
      "Requirement already satisfied: psycopg2 in c:\\users\\yarag\\anaconda3\\lib\\site-packages (2.9.3)\n"
     ]
    }
   ],
   "source": [
    "!pip install psycopg2"
   ]
  },
  {
   "cell_type": "code",
   "execution_count": 20,
   "id": "fcc01879",
   "metadata": {},
   "outputs": [],
   "source": [
    "import psycopg2\n",
    "params_dic = {\n",
    "    \"host\"      : \"localhost\",\n",
    "    \"database\"  : \"postgres\",\n",
    "    \"user\"      : \"postgres\",\n",
    "    \"password\"  : \"123456\"\n",
    "}\n",
    "\n",
    "conn = psycopg2.connect(**params_dic)\n",
    "cursor1 = conn.cursor()\n"
   ]
  },
  {
   "cell_type": "code",
   "execution_count": 21,
   "id": "7c40e897",
   "metadata": {},
   "outputs": [],
   "source": [
    "cursor1.execute('select company_name,city, country,count(order_id)as orders_number from customers c left join orders o on c.customer_id =o.customer_id group by company_name, city, country')"
   ]
  },
  {
   "cell_type": "code",
   "execution_count": 22,
   "id": "2ff28254",
   "metadata": {},
   "outputs": [
    {
     "data": {
      "text/html": [
       "<div>\n",
       "<style scoped>\n",
       "    .dataframe tbody tr th:only-of-type {\n",
       "        vertical-align: middle;\n",
       "    }\n",
       "\n",
       "    .dataframe tbody tr th {\n",
       "        vertical-align: top;\n",
       "    }\n",
       "\n",
       "    .dataframe thead th {\n",
       "        text-align: right;\n",
       "    }\n",
       "</style>\n",
       "<table border=\"1\" class=\"dataframe\">\n",
       "  <thead>\n",
       "    <tr style=\"text-align: right;\">\n",
       "      <th></th>\n",
       "      <th>company_name</th>\n",
       "      <th>city</th>\n",
       "      <th>country</th>\n",
       "      <th>count</th>\n",
       "    </tr>\n",
       "  </thead>\n",
       "  <tbody>\n",
       "    <tr>\n",
       "      <th>0</th>\n",
       "      <td>Great Lakes Food Market</td>\n",
       "      <td>Eugene</td>\n",
       "      <td>USA</td>\n",
       "      <td>11</td>\n",
       "    </tr>\n",
       "    <tr>\n",
       "      <th>1</th>\n",
       "      <td>Du monde entier</td>\n",
       "      <td>Nantes</td>\n",
       "      <td>France</td>\n",
       "      <td>4</td>\n",
       "    </tr>\n",
       "    <tr>\n",
       "      <th>2</th>\n",
       "      <td>Lonesome Pine Restaurant</td>\n",
       "      <td>Portland</td>\n",
       "      <td>USA</td>\n",
       "      <td>8</td>\n",
       "    </tr>\n",
       "    <tr>\n",
       "      <th>3</th>\n",
       "      <td>Richter Supermarkt</td>\n",
       "      <td>Genève</td>\n",
       "      <td>Switzerland</td>\n",
       "      <td>10</td>\n",
       "    </tr>\n",
       "    <tr>\n",
       "      <th>4</th>\n",
       "      <td>FISSA Fabrica Inter. Salchichas S.A.</td>\n",
       "      <td>Madrid</td>\n",
       "      <td>Spain</td>\n",
       "      <td>0</td>\n",
       "    </tr>\n",
       "    <tr>\n",
       "      <th>...</th>\n",
       "      <td>...</td>\n",
       "      <td>...</td>\n",
       "      <td>...</td>\n",
       "      <td>...</td>\n",
       "    </tr>\n",
       "    <tr>\n",
       "      <th>86</th>\n",
       "      <td>La corne d'abondance</td>\n",
       "      <td>Versailles</td>\n",
       "      <td>France</td>\n",
       "      <td>4</td>\n",
       "    </tr>\n",
       "    <tr>\n",
       "      <th>87</th>\n",
       "      <td>Océano Atlántico Ltda.</td>\n",
       "      <td>Buenos Aires</td>\n",
       "      <td>Argentina</td>\n",
       "      <td>5</td>\n",
       "    </tr>\n",
       "    <tr>\n",
       "      <th>88</th>\n",
       "      <td>Hanari Carnes</td>\n",
       "      <td>Rio de Janeiro</td>\n",
       "      <td>Brazil</td>\n",
       "      <td>14</td>\n",
       "    </tr>\n",
       "    <tr>\n",
       "      <th>89</th>\n",
       "      <td>Ottilies Käseladen</td>\n",
       "      <td>Köln</td>\n",
       "      <td>Germany</td>\n",
       "      <td>10</td>\n",
       "    </tr>\n",
       "    <tr>\n",
       "      <th>90</th>\n",
       "      <td>France restauration</td>\n",
       "      <td>Nantes</td>\n",
       "      <td>France</td>\n",
       "      <td>3</td>\n",
       "    </tr>\n",
       "  </tbody>\n",
       "</table>\n",
       "<p>91 rows × 4 columns</p>\n",
       "</div>"
      ],
      "text/plain": [
       "                            company_name            city      country  count\n",
       "0                Great Lakes Food Market          Eugene          USA     11\n",
       "1                        Du monde entier          Nantes       France      4\n",
       "2               Lonesome Pine Restaurant        Portland          USA      8\n",
       "3                     Richter Supermarkt          Genève  Switzerland     10\n",
       "4   FISSA Fabrica Inter. Salchichas S.A.          Madrid        Spain      0\n",
       "..                                   ...             ...          ...    ...\n",
       "86                  La corne d'abondance      Versailles       France      4\n",
       "87                Océano Atlántico Ltda.    Buenos Aires    Argentina      5\n",
       "88                         Hanari Carnes  Rio de Janeiro       Brazil     14\n",
       "89                    Ottilies Käseladen            Köln      Germany     10\n",
       "90                   France restauration          Nantes       France      3\n",
       "\n",
       "[91 rows x 4 columns]"
      ]
     },
     "execution_count": 22,
     "metadata": {},
     "output_type": "execute_result"
    }
   ],
   "source": [
    "df = pd.DataFrame(cursor1.fetchall(),columns=['company_name','city','country','count']) \n",
    "df\n"
   ]
  },
  {
   "cell_type": "code",
   "execution_count": null,
   "id": "90a70ec2",
   "metadata": {},
   "outputs": [],
   "source": []
  }
 ],
 "metadata": {
  "kernelspec": {
   "display_name": "Python 3 (ipykernel)",
   "language": "python",
   "name": "python3"
  },
  "language_info": {
   "codemirror_mode": {
    "name": "ipython",
    "version": 3
   },
   "file_extension": ".py",
   "mimetype": "text/x-python",
   "name": "python",
   "nbconvert_exporter": "python",
   "pygments_lexer": "ipython3",
   "version": "3.9.7"
  }
 },
 "nbformat": 4,
 "nbformat_minor": 5
}
